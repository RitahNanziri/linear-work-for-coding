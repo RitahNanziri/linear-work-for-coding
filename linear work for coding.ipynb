{
 "cells": [
  {
   "cell_type": "code",
   "execution_count": 2,
   "metadata": {},
   "outputs": [
    {
     "name": "stdout",
     "output_type": "stream",
     "text": [
      "[1 2 3 4 5]\n"
     ]
    }
   ],
   "source": [
    "# Importing the vector library\n",
    "import numpy as np\n",
    "\n",
    "# Creating a vector using the numpy library\n",
    "my_vector = np.array([1, 2, 3, 4, 5])\n",
    "\n",
    "# Printing the vector\n",
    "print(my_vector)"
   ]
  },
  {
   "cell_type": "code",
   "execution_count": null,
   "metadata": {},
   "outputs": [],
   "source": [
    "#ADDITION IN VECTORS"
   ]
  },
  {
   "cell_type": "code",
   "execution_count": 3,
   "metadata": {},
   "outputs": [
    {
     "name": "stdout",
     "output_type": "stream",
     "text": [
      "[5, 7, 9]\n"
     ]
    }
   ],
   "source": [
    "A = [1, 2, 3]\n",
    "B = [4, 5, 6]\n",
    "\n",
    "C = []\n",
    "for i in range(len(A)):\n",
    "    C.append(A[i] + B[i])\n",
    "\n",
    "print(C)  # Output: [5, 7, 9]"
   ]
  },
  {
   "cell_type": "code",
   "execution_count": 4,
   "metadata": {},
   "outputs": [
    {
     "name": "stdout",
     "output_type": "stream",
     "text": [
      "[3 3 3]\n"
     ]
    }
   ],
   "source": [
    "#SUBTRACTION IN VECTORS\n",
    "import numpy as np\n",
    "\n",
    "# Define two vectors\n",
    "vector1 = np.array([1, 2, 3])\n",
    "vector2 = np.array([4, 5, 6])\n",
    "\n",
    "# Subtract the vectors\n",
    "result = vector2 - vector1\n",
    "\n",
    "print(result)"
   ]
  },
  {
   "cell_type": "code",
   "execution_count": 13,
   "metadata": {},
   "outputs": [
    {
     "name": "stdout",
     "output_type": "stream",
     "text": [
      "[3 6 9] [12 15 18]\n",
      "[15 21 27]\n"
     ]
    }
   ],
   "source": [
    "#SCALAR VECTORS\n",
    "#Addition in scalar vector\n",
    "vector1=np.array(3)*[1,2,3]\n",
    "vector2=np.array(3)*[4,5,6]\n",
    "print(vector1,vector2)\n",
    "print(vector1 + vector2)"
   ]
  },
  {
   "cell_type": "code",
   "execution_count": 10,
   "metadata": {},
   "outputs": [
    {
     "name": "stdout",
     "output_type": "stream",
     "text": [
      "[(1, 2), (1, 3), (1, 4), (2, 3), (2, 4), (3, 4)]\n"
     ]
    }
   ],
   "source": [
    "#COMBINATION\n",
    "\n",
    "import itertools\n",
    "\n",
    "# Generate combinations of 2 items from a list\n",
    "items = [1, 2, 3, 4]\n",
    "combinations = list(itertools.combinations(items, 2))\n",
    "\n",
    "print(combinations)\n"
   ]
  },
  {
   "cell_type": "code",
   "execution_count": null,
   "metadata": {},
   "outputs": [],
   "source": [
    "#Transformimg Vectors\n",
    "import numpy as np\n",
    "\n",
    "# Define the vector\n",
    "vector = np.array([1, 2, 3])\n",
    "\n",
    "# Define the transformation matrix\n",
    "transformation_matrix = np.array([[2, 0, 0],\n",
    "                                  [0, 3, 0],\n",
    "                                  [0, 0, 4]])\n",
    "\n",
    "# Apply the transformation\n",
    "transformed_vector = np.dot(transformation_matrix, vector)\n",
    "\n",
    "# Print the transformed vector\n",
    "print(transformed_vector)"
   ]
  },
  {
   "cell_type": "code",
   "execution_count": null,
   "metadata": {},
   "outputs": [],
   "source": [
    "#transforming vectors\n",
    "import numpy as np\n",
    "\n",
    "# define the vector\n",
    "vector = np.array([1, 2, 3])\n",
    "\n",
    "# define the transformation matrix\n",
    "transformation_matrix = np.array([[1, 0, 0], [0, 1, 0], [0, 0, 2]])\n",
    "\n",
    "# transform the vector using dot product\n",
    "transformed_vector = np.dot(transformation_matrix, vector)\n",
    "\n",
    "print(\"Original vector:\", vector)\n",
    "print(\"Transformed vector:\", transformed_vector)"
   ]
  },
  {
   "cell_type": "code",
   "execution_count": 14,
   "metadata": {},
   "outputs": [
    {
     "name": "stdout",
     "output_type": "stream",
     "text": [
      "Original Matrix:\n",
      "[[1 2 3]\n",
      " [4 5 6]\n",
      " [7 8 9]]\n",
      "\n",
      "Transposed Matrix:\n",
      "[[1 4 7]\n",
      " [2 5 8]\n",
      " [3 6 9]]\n"
     ]
    }
   ],
   "source": [
    "#Transforming Matrix\n",
    "\n",
    "import numpy as np\n",
    "\n",
    "# Create a 2D matrix\n",
    "matrix = np.array([[1, 2, 3],\n",
    "                   [4, 5, 6],\n",
    "                   [7, 8, 9]])\n",
    "\n",
    "# Transpose the matrix\n",
    "transposed_matrix = np.transpose(matrix)\n",
    "\n",
    "# Print the original and transposed matrix\n",
    "print(\"Original Matrix:\")\n",
    "print(matrix)\n",
    "print(\"\\nTransposed Matrix:\")\n",
    "print(transposed_matrix)"
   ]
  },
  {
   "cell_type": "code",
   "execution_count": 25,
   "metadata": {},
   "outputs": [
    {
     "name": "stdout",
     "output_type": "stream",
     "text": [
      "[[1 4]\n",
      " [2 5]\n",
      " [3 6]]\n"
     ]
    }
   ],
   "source": [
    "# more of tranforming matrix\n",
    "\n",
    "#To transform a matrix in Python, you can use the NumPy library. Here are two examples of common matrix transformations:\n",
    "\n",
    "#Transpose:\n",
    "\n",
    "#The transpose of a matrix involves flipping its rows and columns.\n",
    "#Example:\n",
    "import numpy as np\n",
    "\n",
    "matrix = np.array([[1, 2, 3],\n",
    "                    [4, 5, 6]])\n",
    "transposed_matrix = np.transpose(matrix)\n",
    "\n",
    "print(transposed_matrix)"
   ]
  },
  {
   "cell_type": "code",
   "execution_count": 26,
   "metadata": {},
   "outputs": [
    {
     "name": "stdout",
     "output_type": "stream",
     "text": [
      "[[-2.   1. ]\n",
      " [ 1.5 -0.5]]\n"
     ]
    }
   ],
   "source": [
    "# example 3\n",
    "import numpy as np\n",
    "\n",
    "matrix = np.array([[1, 2],\n",
    "                    [3, 4]])\n",
    "\n",
    "inverse_matrix = np.linalg.inv(matrix)\n",
    "\n",
    "print(inverse_matrix)"
   ]
  },
  {
   "cell_type": "code",
   "execution_count": 2,
   "metadata": {},
   "outputs": [
    {
     "name": "stdout",
     "output_type": "stream",
     "text": [
      "-2.0\n"
     ]
    }
   ],
   "source": [
    "#linear Equation\n",
    "\n",
    "def solve_linear_equation(a, b):\n",
    "    \"\"\"\n",
    "    Solve a linear equation of the form 'ax + b = 0'.\n",
    "\n",
    "    Parameters:\n",
    "    a (float): The coefficient of x.\n",
    "    b (float): The constant term.\n",
    "\n",
    "    Returns:\n",
    "    float: The solution to the linear equation.\n",
    "    \"\"\"\n",
    "\n",
    "    if a == 0:\n",
    "        if b == 0:\n",
    "            return \"Infinite solutions\"\n",
    "        else:\n",
    "            return \"No solution\"\n",
    "    else:\n",
    "        return -b / a\n",
    "\n",
    "# Example usage\n",
    "solution = solve_linear_equation(2, 4)\n",
    "print(solution)"
   ]
  },
  {
   "cell_type": "code",
   "execution_count": 19,
   "metadata": {},
   "outputs": [
    {
     "name": "stdout",
     "output_type": "stream",
     "text": [
      "11\n"
     ]
    }
   ],
   "source": [
    "# Example 2\n",
    "# Equation: y = 2x + 1\n",
    "\n",
    "x = 5\n",
    "y = 2*x + 1\n",
    "\n",
    "print(y) "
   ]
  },
  {
   "cell_type": "code",
   "execution_count": 20,
   "metadata": {},
   "outputs": [
    {
     "name": "stdout",
     "output_type": "stream",
     "text": [
      "2\n"
     ]
    }
   ],
   "source": [
    "# Example 3\n",
    "# Equation: y = 3x - 4\n",
    "\n",
    "x = 2\n",
    "y = 3*x - 4\n",
    "\n",
    "print(y) "
   ]
  },
  {
   "cell_type": "code",
   "execution_count": 13,
   "metadata": {},
   "outputs": [
    {
     "name": "stdout",
     "output_type": "stream",
     "text": [
      "[[ 0.8 -0.6]\n",
      " [-0.2  0.4]]\n"
     ]
    }
   ],
   "source": [
    "# inverse matrix\n",
    "# # Replace a, b, c, d with the elements of your mat\n",
    "\n",
    "\n",
    "\n",
    "import numpy as np\n",
    "\n",
    "matrix = np.array([[2, 3], [1, 4]])\n",
    "inverse_matrix = np.linalg.inv(matrix)\n",
    "\n",
    "print(inverse_matrix)"
   ]
  },
  {
   "cell_type": "code",
   "execution_count": 22,
   "metadata": {},
   "outputs": [
    {
     "name": "stdout",
     "output_type": "stream",
     "text": [
      "[[ 0.8 -0.6]\n",
      " [-0.2  0.4]]\n"
     ]
    }
   ],
   "source": [
    "# Example 2\n",
    "import numpy as np\n",
    "\n",
    "# Create a 2x2 matrix\n",
    "matrix = np.array([[2, 3], [1, 4]])\n",
    "\n",
    "# Calculate the inverse matrix\n",
    "inverse_matrix = np.linalg.inv(matrix)\n",
    "\n",
    "print(inverse_matrix)"
   ]
  },
  {
   "cell_type": "code",
   "execution_count": 14,
   "metadata": {},
   "outputs": [
    {
     "name": "stdout",
     "output_type": "stream",
     "text": [
      "Dot product: 32\n"
     ]
    }
   ],
   "source": [
    "# dot matrix\n",
    "import numpy as np\n",
    "\n",
    "# Define two arrays\n",
    "array1 = np.array([1, 2, 3])\n",
    "array2 = np.array([4, 5, 6])\n",
    "\n",
    "# Compute the dot product\n",
    "dot_product = np.dot(array1, array2)\n",
    "\n",
    "# Print the result\n",
    "print(\"Dot product:\", dot_product)"
   ]
  },
  {
   "cell_type": "code",
   "execution_count": 16,
   "metadata": {},
   "outputs": [
    {
     "name": "stdout",
     "output_type": "stream",
     "text": [
      "5.5\n"
     ]
    }
   ],
   "source": [
    "#Example 2\n",
    "vector3 = np.array([0.5, 1.5])\n",
    "vector4 = np.array([2, 3])\n",
    "\n",
    "dot_product = np.dot(vector3, vector4)\n",
    "print(dot_product)"
   ]
  },
  {
   "cell_type": "code",
   "execution_count": 15,
   "metadata": {},
   "outputs": [
    {
     "name": "stdout",
     "output_type": "stream",
     "text": [
      "U:\n",
      " [[-0.21483724  0.88723069  0.40824829]\n",
      " [-0.52058739  0.24964395 -0.81649658]\n",
      " [-0.82633754 -0.38794278  0.40824829]]\n",
      "Singular values: [1.68481034e+01 1.06836951e+00 1.47280825e-16]\n",
      "V:\n",
      " [[-0.47967118 -0.57236779 -0.66506441]\n",
      " [-0.77669099 -0.07568647  0.62531805]\n",
      " [ 0.40824829 -0.81649658  0.40824829]]\n"
     ]
    }
   ],
   "source": [
    "#Matrix decomposition\n",
    "import numpy as np\n",
    "\n",
    "# Create a 3x3 matrix\n",
    "A = np.array([[1, 2, 3],\n",
    "              [4, 5, 6],\n",
    "              [7, 8, 9]])\n",
    "\n",
    "# Perform matrix decomposition\n",
    "U, s, V = np.linalg.svd(A)\n",
    "\n",
    "# Print the decomposed matrices\n",
    "print(\"U:\\n\", U)\n",
    "print(\"Singular values:\", s)\n",
    "print(\"V:\\n\", V)"
   ]
  },
  {
   "cell_type": "code",
   "execution_count": 18,
   "metadata": {},
   "outputs": [
    {
     "name": "stdout",
     "output_type": "stream",
     "text": [
      "Eigenvalues:\n",
      " [-0.37228132  5.37228132]\n",
      "Eigenvectors:\n",
      " [[-0.82456484 -0.41597356]\n",
      " [ 0.56576746 -0.90937671]]\n"
     ]
    }
   ],
   "source": [
    "# Example 2\n",
    "import numpy as np\n",
    "\n",
    "matrix = np.array([[1, 2], [3, 4]])\n",
    "eigenvalues, eigenvectors = np.linalg.eig(matrix)\n",
    "\n",
    "print(\"Eigenvalues:\\n\", eigenvalues)\n",
    "print(\"Eigenvectors:\\n\", eigenvectors)"
   ]
  }
 ],
 "metadata": {
  "kernelspec": {
   "display_name": "Python 3",
   "language": "python",
   "name": "python3"
  },
  "language_info": {
   "codemirror_mode": {
    "name": "ipython",
    "version": 3
   },
   "file_extension": ".py",
   "mimetype": "text/x-python",
   "name": "python",
   "nbconvert_exporter": "python",
   "pygments_lexer": "ipython3",
   "version": "3.11.5"
  },
  "orig_nbformat": 4
 },
 "nbformat": 4,
 "nbformat_minor": 2
}
